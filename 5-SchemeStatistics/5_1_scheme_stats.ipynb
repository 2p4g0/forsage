{
 "cells": [
  {
   "cell_type": "markdown",
   "metadata": {},
   "source": [
    "# Scheme statistics"
   ]
  },
  {
   "cell_type": "code",
   "execution_count": 5,
   "metadata": {},
   "outputs": [],
   "source": [
    "import os\n",
    "from datetime import datetime\n",
    "import glob\n",
    "import pandas as pd\n",
    "import time"
   ]
  },
  {
   "cell_type": "code",
   "execution_count": 6,
   "metadata": {},
   "outputs": [
    {
     "name": "stdout",
     "output_type": "stream",
     "text": [
      "loading traces\n",
      "loading txs\n",
      "loading blocktimestamp\n",
      "cleaning timestamp\n"
     ]
    }
   ],
   "source": [
    "# Load Forsage data\n",
    "print(\"loading traces\")\n",
    "# from_traces = pd.read_csv('../../forsage_data_temp/from_forsage_traces.csv')\n",
    "# to_traces = pd.read_csv('../../forsage_data_temp/to_forsage_traces.csv')\n",
    "print(\"loading txs\")\n",
    "to_txs = pd.read_csv('../../forsage_data_temp/to_forsage_txs.csv')\n",
    "print(\"loading blocktimestamp\")\n",
    "block_timestamp = pd.read_csv('../../forsage_data_temp/block_numbers.csv.gz')\n",
    "print(\"cleaning timestamp\")\n",
    "block_timestamp['timestamp_date'] = pd.to_datetime(block_timestamp['timestamp'], format=\"%Y-%m-%d %H:%M:%S\")"
   ]
  },
  {
   "cell_type": "code",
   "execution_count": 7,
   "metadata": {},
   "outputs": [
    {
     "name": "stdout",
     "output_type": "stream",
     "text": [
      "Calculating median\n"
     ]
    }
   ],
   "source": [
    "# Load ethereum price downloaded from coindesk\n",
    "eth_price = pd.read_csv('../../forsage_data_temp/ETH_USD_2015-08-09_2021-01-13-CoinDesk.csv.gz')\n",
    "eth_price['Date'] = eth_price['Date'].apply(lambda x: datetime.strptime(x, '%Y-%m-%d').date())\n",
    "print(\"Calculating median\")\n",
    "eth_price['median']=eth_price.apply(lambda row: (row['24h High (USD)']+row['24h Low (USD)'])/2, axis=1)"
   ]
  },
  {
   "cell_type": "markdown",
   "metadata": {},
   "source": [
    "### Generating data for table, \n",
    "\n",
    "Contract - Total txs, unique addresses, total coins, total usd, launch date, address"
   ]
  },
  {
   "cell_type": "code",
   "execution_count": 8,
   "metadata": {},
   "outputs": [
    {
     "name": "stdout",
     "output_type": "stream",
     "text": [
      "ETH Matrix\n",
      "# of TXs sent: 3266722\n",
      "Total Eth 721924.45000166\n",
      "USD value 225998105.38630983\n",
      "Highest day USD\n",
      "2020-08-01\n",
      "3793130.8356227824\n",
      "Average per day 9387\n"
     ]
    }
   ],
   "source": [
    "## Clean data for matrix\n",
    "# only keep accepted txs\n",
    "to_txs=to_txs[to_txs['receipt_status']==1]\n",
    "# drop useless columns\n",
    "to_txs.drop(columns=['gas','gas_price','receipt_gas_used','receipt_status','transaction_index'], inplace=True)\n",
    "# Convert date\n",
    "to_txs['Date'] = to_txs['block_timestamp'].apply(lambda x: datetime.strptime(x, '%Y-%m-%d %H:%M:%S+00:00').date())\n",
    "# Convert to ETH\n",
    "to_txs['value_eth'] = to_txs['value'].apply(lambda x: int(x)/1e18)\n",
    "# Drop blocks\n",
    "to_txs.drop(columns=['block_number'], inplace=True)\n",
    "# Remove txs past cut-off date\n",
    "to_txs = to_txs[to_txs['Date']<datetime(2021,1,14,0,0,0).date()]\n",
    "# Groupby Date\n",
    "gp = to_txs.groupby(\"Date\")\n",
    "# Total all days\n",
    "gpx = gp.sum().reset_index()\n",
    "# Finding the highest days\n",
    "highest_day = {}\n",
    "for i, row in gpx.iterrows():\n",
    "    if row['Date'] in eth_price['Date'].values:\n",
    "        val = eth_price[eth_price['Date']==row['Date']]['median'].values[0]\n",
    "        total = row['value_eth']*val\n",
    "        highest_day[row['Date']] = total\n",
    "# How much did all the main contracts generate in USD\n",
    "print(\"ETH Matrix\")\n",
    "print(\"# of TXs sent: %i\" % len(to_txs))\n",
    "print(\"Total Eth %.8f\" % sum(to_txs['value_eth']))\n",
    "print(\"USD value %.8f\" % sum(highest_day.values()))\n",
    "print(\"Highest day USD\")\n",
    "print(list(dict(sorted(highest_day.items(), key=lambda item: item[1], reverse=True)))[0])\n",
    "print(highest_day[list(dict(sorted(highest_day.items(), key=lambda item: item[1], reverse=True)))[0]])\n",
    "print(\"Average per day %i\" % (len(to_txs)/len(highest_day)))"
   ]
  },
  {
   "cell_type": "code",
   "execution_count": 9,
   "metadata": {},
   "outputs": [
    {
     "name": "stdout",
     "output_type": "stream",
     "text": [
      "ETH xGold\n",
      "# of TXs sent: 37562\n",
      "Total Eth 8898.15000001\n",
      "USD value 9037769.17294407\n",
      "Highest day USD\n",
      "2021-01-03\n",
      "2466425.5923868893\n",
      "Average per day 3414\n"
     ]
    }
   ],
   "source": [
    "# Same for eth xgold\n",
    "xgold_to_txs = pd.read_csv('../../forsage_data_temp/xgold_to_forsage_txs.csv.gz')\n",
    "# Filter\n",
    "xgold_to_txs=xgold_to_txs[xgold_to_txs['receipt_status']==1]\n",
    "# Drop useless\n",
    "xgold_to_txs = xgold_to_txs.drop(columns=['to_address', 'from_address', 'hash', 'gas','gas_price','receipt_gas_used','receipt_status','transaction_index'])\n",
    "# convert date\n",
    "xgold_to_txs['Date'] = xgold_to_txs['block_timestamp'].apply(lambda x: datetime.strptime(x, '%Y-%m-%d %H:%M:%S+00:00').date())\n",
    "# convert eth value\n",
    "xgold_to_txs['value_eth'] = xgold_to_txs['value'].apply(lambda x: int(x)/1e18)\n",
    "# drop by time\n",
    "xgold_to_txs=xgold_to_txs[xgold_to_txs['block_number']<11649878]\n",
    "# Keep only two\n",
    "xgold_to_txs.drop(columns=['block_number', 'value'], inplace=True)\n",
    "# Group by date\n",
    "xgold_gp = xgold_to_txs.groupby(\"Date\")\n",
    "xgold_gpx = xgold_gp.sum().reset_index()\n",
    "# find highest day\n",
    "xgold_highest_day = {}\n",
    "for i, row in xgold_gpx.iterrows():\n",
    "    if row['Date'] in eth_price['Date'].values:\n",
    "        val = eth_price[eth_price['Date']==row['Date']]['median'].values[0]\n",
    "        total = row['value_eth']*val\n",
    "        xgold_highest_day[row['Date']] = total\n",
    "# Print results\n",
    "print(\"ETH xGold\")\n",
    "print(\"# of TXs sent: %i\" % len(xgold_to_txs))\n",
    "print(\"Total Eth %.8f\" % sum(xgold_to_txs['value_eth']))\n",
    "print(\"USD value %.8f\" % sum(xgold_highest_day.values()))\n",
    "print(\"Highest day USD\")\n",
    "print(list(dict(sorted(xgold_highest_day.items(), key=lambda item: item[1], reverse=True)))[0])\n",
    "print(xgold_highest_day[list(dict(sorted(xgold_highest_day.items(), key=lambda item: item[1], reverse=True)))[0]])\n",
    "print(\"Average per day %i\" % (len(xgold_to_txs)/len(xgold_highest_day)))"
   ]
  },
  {
   "cell_type": "code",
   "execution_count": 12,
   "metadata": {},
   "outputs": [],
   "source": [
    "# Same for tron \n",
    "# Load the tron price\n",
    "tron_price = pd.read_csv(\"../../forsage_data_temp/TRX_USD_2020-01-21_2021-01-20-CoinDesk.csv\")\n",
    "tron_price['median']=tron_price.apply(lambda row: (row['24h Open (USD)']+row['Closing Price (USD)'])/2, axis=1)\n",
    "tron_price['Date'] = tron_price['Date'].apply(lambda x: datetime.strptime(x, '%Y-%m-%d').date())\n",
    "# Load df\n",
    "tron_df = pd.read_csv(\"../../forsage_data_temp/tron_txs.csv.gz\")\n",
    "# Convert timestamps\n",
    "tron_df['timestamp']  = tron_df.apply(lambda row: int(str(row.timestamp)[:-3]), axis=1)\n",
    "# Convert dates\n",
    "tron_df['Date'] = tron_df.apply(lambda row: datetime.fromtimestamp(row.timestamp).date(), axis=1)\n",
    "# Convert values\n",
    "tron_df['value']=tron_df.apply(lambda row: row['amount']/1e6, axis=1)\n",
    "# count stuff\n",
    "tron_users_count = len(set(list(tron_df[tron_df['type']=='standard']['from_address'])))\n",
    "tron_users_scam_count = len(set(list(tron_df[tron_df['type']=='scam']['from_address'])))\n",
    "tron_users_xgold_count = len(set(list(tron_df[tron_df['type']=='xgold']['from_address'])))\n",
    "# Simply dataframe\n",
    "tron_df=tron_df[['value', 'Date', 'type']]\n",
    "# Filter into different dataframes\n",
    "tron_scam = tron_df[tron_df['type']=='scam']\n",
    "tron_xgold=tron_df[tron_df['type']=='xgold']\n",
    "tron_df = tron_df[tron_df['type']=='standard']"
   ]
  },
  {
   "cell_type": "code",
   "execution_count": 13,
   "metadata": {},
   "outputs": [
    {
     "name": "stdout",
     "output_type": "stream",
     "text": [
      "Tron Matrix\n",
      "# of sent: 1194124\n",
      "# of users: 342221\n",
      "Total TRX 1094548444.69194651\n",
      "USD value 31501351.84977436\n",
      "Highest day USD\n",
      "2020-09-06\n",
      "2434027.1616682317\n",
      "Average per day 8845\n"
     ]
    }
   ],
   "source": [
    "# Tron Matrix \n",
    "tron_df_gp = tron_df.groupby(\"Date\")\n",
    "tron_df_gpx = tron_df_gp.sum().reset_index()\n",
    "tron_gpx_highest_day = {}\n",
    "for i, row in tron_df_gpx.iterrows():\n",
    "    if row['Date'] in tron_price['Date'].values:\n",
    "        val = tron_price[tron_price['Date']==row['Date']]['median'].values[0]\n",
    "        total = row['value']*val\n",
    "        tron_gpx_highest_day[row['Date']] = total\n",
    "print(\"Tron Matrix\")\n",
    "print(\"# of sent: %i\" % len(tron_df))\n",
    "print(\"# of users: %i\" % tron_users_count)\n",
    "print(\"Total TRX %.8f\" % sum(tron_df['value']))\n",
    "print(\"USD value %.8f\" % sum(tron_gpx_highest_day.values()))\n",
    "print(\"Highest day USD\")\n",
    "print(list(dict(sorted(tron_gpx_highest_day.items(), key=lambda item: item[1], reverse=True)))[0])\n",
    "print(tron_gpx_highest_day[list(dict(sorted(tron_gpx_highest_day.items(), key=lambda item: item[1], reverse=True)))[0]])\n",
    "print(\"Average per day %i\" % (len(tron_df)/len(tron_gpx_highest_day)))"
   ]
  },
  {
   "cell_type": "code",
   "execution_count": 14,
   "metadata": {},
   "outputs": [
    {
     "name": "stdout",
     "output_type": "stream",
     "text": [
      "tron xgold\n",
      "# of txs sent: 307703\n",
      "# of users: 105537\n",
      "Total TRX 90665300.84438701\n",
      "USD value 2561271.48319644\n",
      "Highest day USD\n",
      "2020-11-21\n",
      "138673.497951305\n",
      "Average per day 4215\n"
     ]
    }
   ],
   "source": [
    "tron_xgold_df_gp = tron_xgold.groupby(\"Date\")\n",
    "tron_xgold_df_gpx = tron_xgold_df_gp.sum().reset_index()\n",
    "tron_xgold_gpx_highest_day = {}\n",
    "for i, row in tron_xgold_df_gpx.iterrows():\n",
    "    if row['Date'] in tron_price['Date'].values:\n",
    "        val = tron_price[tron_price['Date']==row['Date']]['median'].values[0]\n",
    "        total = row['value']*val\n",
    "        tron_xgold_gpx_highest_day[row['Date']] = total\n",
    "print(\"tron xgold\")\n",
    "print(\"# of txs sent: %i\" % len(tron_xgold))\n",
    "print(\"# of users: %i\" % tron_users_xgold_count)\n",
    "print(\"Total TRX %.8f\" % sum(tron_xgold['value']))\n",
    "print(\"USD value %.8f\" % sum(tron_xgold_gpx_highest_day.values()))\n",
    "print(\"Highest day USD\")\n",
    "print(list(dict(sorted(tron_xgold_gpx_highest_day.items(), key=lambda item: item[1], reverse=True)))[0])\n",
    "print(tron_xgold_gpx_highest_day[list(dict(sorted(tron_xgold_gpx_highest_day.items(), key=lambda item: item[1], reverse=True)))[0]])\n",
    "print(\"Average per day %i\" % (len(tron_xgold)/len(tron_xgold_gpx_highest_day)))"
   ]
  },
  {
   "cell_type": "code",
   "execution_count": 15,
   "metadata": {},
   "outputs": [
    {
     "name": "stdout",
     "output_type": "stream",
     "text": [
      "Tron scam\n",
      "# of txs sent: 217171\n",
      "# of users: 78605\n",
      "Total ETH 537483240.45958710\n",
      "USD value 14739813.52256738\n",
      "Highest day USD\n",
      "2020-09-15\n",
      "486461.581653\n",
      "Average per day 1220\n"
     ]
    }
   ],
   "source": [
    "tron_scam_gp = tron_scam.groupby(\"Date\")\n",
    "tron_scam_gp = tron_scam_gp.sum().reset_index()\n",
    "tron_scam_gp_highest_day = {}\n",
    "for i, row in tron_scam_gp.iterrows():\n",
    "    if row['Date'] in tron_price['Date'].values:\n",
    "        val = tron_price[tron_price['Date']==row['Date']]['median'].values[0]\n",
    "        total = row['value']*val\n",
    "        tron_scam_gp_highest_day[row['Date']] = total\n",
    "print(\"Tron Clone/Scam\")\n",
    "print(\"# of txs sent: %i\" % len(tron_scam))\n",
    "print(\"# of users: %i\" % tron_users_scam_count)\n",
    "print(\"Total ETH %.8f\" % sum(tron_scam['value']))\n",
    "print(\"USD value %.8f\" % sum(tron_scam_gp_highest_day.values()))\n",
    "print(\"Highest day USD\")\n",
    "print(list(dict(sorted(tron_scam_gp_highest_day.items(), key=lambda item: item[1], reverse=True)))[0])\n",
    "print(tron_scam_gp_highest_day[list(dict(sorted(tron_scam_gp_highest_day.items(), key=lambda item: item[1], reverse=True)))[0]])\n",
    "print(\"Average per day %i\" % (len(tron_scam)/len(tron_scam_gp_highest_day)))"
   ]
  },
  {
   "cell_type": "markdown",
   "metadata": {},
   "source": [
    "### What is the total USD Value of all official operations?"
   ]
  },
  {
   "cell_type": "code",
   "execution_count": 17,
   "metadata": {},
   "outputs": [
    {
     "data": {
      "text/plain": [
       "269098497.89222467"
      ]
     },
     "execution_count": 17,
     "metadata": {},
     "output_type": "execute_result"
    }
   ],
   "source": [
    "sum(highest_day.values())+sum(xgold_highest_day.values())+sum(tron_gpx_highest_day.values())+sum(tron_xgold_gpx_highest_day.values())"
   ]
  },
  {
   "cell_type": "markdown",
   "metadata": {},
   "source": [
    "### Who raised most on a single day?"
   ]
  },
  {
   "cell_type": "markdown",
   "metadata": {},
   "source": [
    "Check data above"
   ]
  },
  {
   "cell_type": "markdown",
   "metadata": {},
   "source": [
    "### How much was xGold sent combined?"
   ]
  },
  {
   "cell_type": "code",
   "execution_count": 18,
   "metadata": {},
   "outputs": [
    {
     "data": {
      "text/plain": [
       "11599040.656140506"
      ]
     },
     "execution_count": 18,
     "metadata": {},
     "output_type": "execute_result"
    }
   ],
   "source": [
    "sum(tron_xgold_gpx_highest_day.values())+sum(xgold_highest_day.values())"
   ]
  },
  {
   "cell_type": "code",
   "execution_count": 166,
   "metadata": {},
   "outputs": [],
   "source": [
    "all_txs = pd.read_csv('../../forsage_data_temp/to_forsage_txs.csv')\n",
    "all_txs=all_txs[all_txs['receipt_status']==1]\n",
    "all_txs.drop(columns=['value','gas','gas_price','receipt_gas_used','receipt_status','transaction_index','block_timestamp'], inplace=True)\n",
    "all_txs = all_txs.drop_duplicates()\n",
    "all_txs_count = all_txs.groupby('block_number').count()"
   ]
  },
  {
   "cell_type": "code",
   "execution_count": 281,
   "metadata": {},
   "outputs": [
    {
     "data": {
      "text/plain": [
       "3266722"
      ]
     },
     "execution_count": 281,
     "metadata": {},
     "output_type": "execute_result"
    }
   ],
   "source": [
    "sum(all_txs_count[all_txs_count['block_number']<11649878]['hash'])"
   ]
  },
  {
   "cell_type": "code",
   "execution_count": 167,
   "metadata": {},
   "outputs": [
    {
     "name": "stderr",
     "output_type": "stream",
     "text": [
      "/opt/anaconda3/envs/clusteringconfidence/lib/python3.7/site-packages/ipykernel_launcher.py:2: SettingWithCopyWarning: \n",
      "A value is trying to be set on a copy of a slice from a DataFrame.\n",
      "Try using .loc[row_indexer,col_indexer] = value instead\n",
      "\n",
      "See the caveats in the documentation: https://pandas.pydata.org/pandas-docs/stable/user_guide/indexing.html#returning-a-view-versus-a-copy\n",
      "  \n",
      "/opt/anaconda3/envs/clusteringconfidence/lib/python3.7/site-packages/pandas/core/frame.py:4133: SettingWithCopyWarning: \n",
      "A value is trying to be set on a copy of a slice from a DataFrame\n",
      "\n",
      "See the caveats in the documentation: https://pandas.pydata.org/pandas-docs/stable/user_guide/indexing.html#returning-a-view-versus-a-copy\n",
      "  errors=errors,\n"
     ]
    }
   ],
   "source": [
    "block_map = block_timestamp[['number', 'timestamp_date']]\n",
    "block_map['timestamp_date'] = block_map['timestamp_date'].apply(lambda row: row.date())\n",
    "block_map.rename(columns={'number':'block_number'}, inplace=True)"
   ]
  },
  {
   "cell_type": "code",
   "execution_count": 298,
   "metadata": {},
   "outputs": [
    {
     "name": "stdout",
     "output_type": "stream",
     "text": [
      "dups\n",
      "count\n"
     ]
    }
   ],
   "source": [
    "_temp = all_txs_count.reset_index()\n",
    "forsage_count = block_map.merge(_temp, on='block_number', how='left')[['block_number','timestamp_date', 'hash']].fillna(0)\n",
    "forsage_count = forsage_count[forsage_count['block_number']<11649878].drop(columns=['block_number'])\n",
    "forsage_count = forsage_count.groupby(\"timestamp_date\").sum().reset_index()\n",
    "\n",
    "xgold_to_txs = pd.read_csv('../../forsage_data_temp/xgold_to_forsage_txs.csv.gz')\n",
    "xgold_to_txs=xgold_to_txs[xgold_to_txs['receipt_status']==1]\n",
    "xgold_to_txs = xgold_to_txs.drop(columns=['value','gas','gas_price','receipt_gas_used','receipt_status','transaction_index','block_timestamp'])\n",
    "print(\"dups\")\n",
    "xgold_all_txs = xgold_to_txs.drop_duplicates()\n",
    "print(\"count\")\n",
    "xgold_all_txs_count = xgold_all_txs.groupby('block_number').count()\n",
    "xgold_all_txs_count = xgold_all_txs_count.reset_index()\n",
    "\n",
    "xgold_forsage_count = block_map.merge(xgold_all_txs_count, on='block_number', how='left')[['block_number','timestamp_date', 'hash']].fillna(0)\n",
    "xgold_forsage_count = xgold_forsage_count[xgold_forsage_count['block_number']<11649878].drop(columns=['block_number'])\n",
    "xgold_forsage_count = xgold_forsage_count.groupby(\"timestamp_date\").sum().reset_index()\n",
    "\n",
    "forsage_count_d = dict(zip(forsage_count.timestamp_date, forsage_count.hash))\n",
    "xgold_forsage_count_d = dict(zip(xgold_forsage_count.timestamp_date, xgold_forsage_count.hash))"
   ]
  },
  {
   "cell_type": "markdown",
   "metadata": {},
   "source": [
    "### Transactions over time figure"
   ]
  },
  {
   "cell_type": "code",
   "execution_count": 175,
   "metadata": {},
   "outputs": [
    {
     "name": "stdout",
     "output_type": "stream",
     "text": [
      "Reading\n",
      "Filtering\n",
      "To date\n",
      "Group and Count\n",
      "Seperating\n",
      "Filling\n",
      "cleaning\n"
     ]
    }
   ],
   "source": [
    "# Process counts\n",
    "        \n",
    "# TRON MATRIX, XGOLD, SCAM\n",
    "print(\"Reading\")\n",
    "tron_df = pd.read_csv(\"../../forsage_data_temp/tron_txs.csv.gz\")\n",
    "# filter with only txs sent to tron\n",
    "tron_contract = 'TREbha3Jj6TrpT7e6Z5ukh3NRhyxHsmMug'\n",
    "tron_xgold = 'TA6p1BnBf2HJgc77Zk8BHmHoiJzquLCKWb'\n",
    "tron_scam = 'TJRv6qukWEz4DKY6gkd3fhX4uahREpTQu6'\n",
    "# filter by txs sent to contract\n",
    "print(\"Filtering\")\n",
    "tron_addrs = [tron_contract, tron_xgold, tron_scam]\n",
    "tron_df = tron_df[tron_df.to_address.isin(tron_addrs)]\n",
    "\n",
    "# convert timestamp to date\n",
    "print(\"To date\")\n",
    "tron_df['Date'] = tron_df.apply(lambda row: datetime.fromtimestamp(int(str(row.timestamp)[:-3])).date(), axis=1)\n",
    "# groupby specific date\n",
    "print(\"Group and Count\")\n",
    "res = tron_df[['Date', 'type']].groupby(['Date', 'type']).size().unstack(fill_value=0).reset_index()\n",
    "# convert into dict so we can use in plot\n",
    "print(\"Seperating\")\n",
    "tron_count = dict(zip(res.Date, res.standard))\n",
    "tron_scam_count = dict(zip(res.Date, res.scam))\n",
    "tron_xgold_count = dict(zip(res.Date, res.xgold))\n",
    "print(\"Filling\")\n",
    "# fill in with python\n",
    "for day in forsage_count['timestamp_date']:\n",
    "    if day not in tron_count:\n",
    "        tron_count[day]=0\n",
    "    if day not in tron_scam_count:\n",
    "        tron_scam_count[day]=0\n",
    "    if day not in tron_xgold_count:\n",
    "        tron_xgold_count[day]=0\n",
    "print(\"cleaning\")\n",
    "excess = set(tron_count.keys())-set(forsage_count['timestamp_date'])\n",
    "for x in excess: \n",
    "    tron_count.pop(x)\n",
    "    \n",
    "excess = set(tron_scam_count.keys())-set(forsage_count['timestamp_date'])\n",
    "for x in excess: \n",
    "    xtron_scam_count.pop(x)\n",
    "\n",
    "excess = set(xtron_xgold_count.keys())-set(forsage_count['timestamp_date'])\n",
    "for x in excess: \n",
    "    xtron_xgold_count.pop(x)\n",
    "\n",
    "from collections import OrderedDict\n",
    "xtron_count = OrderedDict(sorted(tron_count.items(), key=lambda t: t[0]))\n",
    "xtron_scam_count = OrderedDict(sorted(tron_scam_count.items(), key=lambda t: t[0]))\n",
    "xtron_xgold_count = OrderedDict(sorted(tron_xgold_count.items(), key=lambda t: t[0]))"
   ]
  },
  {
   "cell_type": "code",
   "execution_count": 299,
   "metadata": {},
   "outputs": [],
   "source": [
    "total_per_day = {}\n",
    "for i,v in forsage_count_d.items():\n",
    "    val = forsage_count_d[i]+xgold_forsage_count_d[i]+xtron_count[i]+xtron_scam_count[i]+xtron_xgold_count[i]\n",
    "    total_per_day[i]= val"
   ]
  },
  {
   "cell_type": "code",
   "execution_count": 327,
   "metadata": {},
   "outputs": [
    {
     "data": {
      "image/png": "[encoded data removed]",
      "text/plain": [
       "<Figure size 432x288 with 1 Axes>"
      ]
     },
     "metadata": {
      "needs_background": "light"
     },
     "output_type": "display_data"
    }
   ],
   "source": [
    "%matplotlib inline\n",
    "def zero_nan_else_num(items):\n",
    "    return [float('nan') if val==0 else val for val in items]\n",
    "import numpy as np\n",
    "import matplotlib.pyplot as plt\n",
    "import matplotlib.dates as mdates\n",
    "from collections import OrderedDict\n",
    "\n",
    "forsage_count_od = OrderedDict(sorted(forsage_count_d.items(), key=lambda t: t[0]))\n",
    "xgold_forsage_count_od = OrderedDict(sorted(xgold_forsage_count_d.items(), key=lambda t: t[0]))\n",
    "total_per_day_od = OrderedDict(sorted(total_per_day.items(), key=lambda t: t[0]))\n",
    "xtron_count_od = OrderedDict(sorted(xtron_count.items(), key=lambda t: t[0]))\n",
    "xtron_scam_count_od = OrderedDict(sorted(xtron_scam_count.items(), key=lambda t: t[0]))\n",
    "xtron_xgold_count_od = OrderedDict(sorted(xtron_xgold_count.items(), key=lambda t: t[0]))\n",
    "\n",
    "myFmt = mdates.DateFormatter('%b %y')\n",
    "\n",
    "# Create some mock data\n",
    "t = list(forsage_count_od.keys())\n",
    "data1 = zero_nan_else_num(list(forsage_count_od.values()))\n",
    "data1b = zero_nan_else_num(list(xgold_forsage_count_od.values()))\n",
    "data_tron_standard = zero_nan_else_num(list(xtron_count_od.values()))\n",
    "data_tron_scam = zero_nan_else_num(list(xtron_scam_count_od.values()))\n",
    "data_tron_xgold = zero_nan_else_num(list(xtron_xgold_count_od.values()))\n",
    "\n",
    "data3 = list(total_per_day.values())\n",
    "\n",
    "fig, ax1 = plt.subplots()\n",
    "\n",
    "ax1.set_xlabel('Date')\n",
    "ax1.set_ylabel('Transactions Received')#, color=color)\n",
    "ln1 = ax1.plot(t, data1, label='ETH Matrix', linewidth=2)\n",
    "ln2 = ax1.plot(t, data1b, label='ETH xGold', linewidth=2)\n",
    "ln3 = ax1.plot(t, data_tron_standard, label='TRX Matrix', linewidth=2)\n",
    "ln4 = ax1.plot(t, data_tron_xgold, label='TRX xGold', linewidth=2)\n",
    "ln5 = ax1.plot(t, data_tron_scam, label='TRX Clone', linewidth=2)\n",
    "#ln6 = ax1.plot(t, data3, label='Daily Total', linewidth=2, alpha=0.6)\n",
    "ax1.tick_params(axis='y')\n",
    "\n",
    "ax1.relim()\n",
    "ax1.autoscale()\n",
    "ax1.xaxis.set_major_formatter(myFmt)\n",
    "ax1.xaxis.set_major_locator(mdates.MonthLocator())\n",
    "\n",
    "lns = ln1+ln2+ln3+ln4+ln5#+ln6\n",
    "labs = [l.get_label() for l in lns]\n",
    "ax1.legend(lns, labs, loc=0)\n",
    "\n",
    "plt.margins(x=0, y=0)\n",
    "\n",
    "plt.rcParams.update({'font.size': 12})\n",
    "fig.tight_layout() \n",
    "for label in ax1.xaxis.get_ticklabels()[::2]:\n",
    "    label.set_visible(False)\n",
    "plt.tight_layout()\n",
    "\n",
    "labels = [item.get_text() for item in fig.axes[0].get_yticklabels()]\n",
    "new_labels = []\n",
    "for l in labels:\n",
    "    if l == '': continue\n",
    "    _l = str(int(int(l)/1000))+'k'\n",
    "    new_labels.append(_l)\n",
    "fig.axes[0].set_yticklabels(new_labels)\n",
    "# fix xlabel \n",
    "fig.axes[0].set_ylabel(\"Transactions Received\")\n",
    "# refresh legend \n",
    "fig.axes[0].legend().texts \n",
    "# change font size\n",
    "# matplotlib.rcParams.update({'font.size': 10})\n",
    "size = 12\n",
    "plt.rcParams.update({'font.size': size})#, 'axes.labelsize': size})\n",
    "fig.axes[0].xaxis.label.set_size(size)\n",
    "fig.axes[0].yaxis.label.set_size(size)\n",
    "\n",
    "fig.axes[0].tick_params(axis='x', labelsize=size)\n",
    "fig.axes[0].tick_params(axis='y', labelsize=size)\n",
    "\n",
    "plt.ylim(0, 100000)\n",
    "\n",
    "#plt.show()\n",
    "plt.savefig('test.pdf')"
   ]
  }
 ],
 "metadata": {
  "kernelspec": {
   "display_name": "clusteringconfidence",
   "language": "python",
   "name": "clusteringconfidence"
  },
  "language_info": {
   "codemirror_mode": {
    "name": "ipython",
    "version": 3
   },
   "file_extension": ".py",
   "mimetype": "text/x-python",
   "name": "python",
   "nbconvert_exporter": "python",
   "pygments_lexer": "ipython3",
   "version": "3.7.7"
  }
 },
 "nbformat": 4,
 "nbformat_minor": 4
}
